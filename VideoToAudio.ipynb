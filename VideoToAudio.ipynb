{
 "cells": [
  {
   "cell_type": "markdown",
   "id": "4e22a90c-fdb5-49f9-80a3-1fe7b3526b9b",
   "metadata": {},
   "source": [
    "# **Importing Libraries**"
   ]
  },
  {
   "cell_type": "code",
   "execution_count": 1,
   "id": "913721ff-7547-470d-b69c-21061ca29938",
   "metadata": {},
   "outputs": [],
   "source": [
    "import tkinter as tk\n",
    "from tkinter import filedialog, messagebox\n",
    "from moviepy.editor import VideoFileClip"
   ]
  },
  {
   "cell_type": "markdown",
   "id": "71f0708f-6b78-43a2-bbf5-08e91945b50a",
   "metadata": {},
   "source": [
    "# **Video To Audio**"
   ]
  },
  {
   "cell_type": "code",
   "execution_count": 2,
   "id": "2e3537c6-ae67-4c83-8390-97b2cac0805f",
   "metadata": {},
   "outputs": [],
   "source": [
    "def video_to_audio(video_path, audio_path):\n",
    "    try:\n",
    "        video = VideoFileClip(video_path)\n",
    "        video.audio.write_audiofile(audio_path)\n",
    "        messagebox.showinfo(\"Success\", f\"Audio file has been saved as {audio_path}\")\n",
    "    except Exception as e:\n",
    "        messagebox.showerror(\"Error\", f\"An error occurred: {e}\")"
   ]
  },
  {
   "cell_type": "markdown",
   "id": "c6786467-6d74-46b4-9967-e2b4312276bd",
   "metadata": {},
   "source": [
    "# **Selecting Video File**"
   ]
  },
  {
   "cell_type": "code",
   "execution_count": 3,
   "id": "7b558e9f-bb19-4620-9d79-c18895bcfa91",
   "metadata": {},
   "outputs": [],
   "source": [
    "def select_video_file():\n",
    "    video_path = filedialog.askopenfilename(filetypes=[(\"Video files\", \"*.mp4 *.avi *.mov *.mkv\")])\n",
    "    if video_path:\n",
    "        video_entry.delete(0, tk.END)\n",
    "        video_entry.insert(0, video_path)"
   ]
  },
  {
   "cell_type": "markdown",
   "id": "8e9ed4af-fc69-4d64-b4be-81fcd67b2f3a",
   "metadata": {},
   "source": [
    "# **Selecting Audio File**"
   ]
  },
  {
   "cell_type": "code",
   "execution_count": 4,
   "id": "abddefee-5528-45b8-a6da-0102aaa8097a",
   "metadata": {},
   "outputs": [],
   "source": [
    "def select_audio_file():\n",
    "    audio_path = filedialog.asksaveasfilename(defaultextension=\".mp3\", filetypes=[(\"Audio files\", \"*.mp3 *.wav\")])\n",
    "    if audio_path:\n",
    "        audio_entry.delete(0, tk.END)\n",
    "        audio_entry.insert(0, audio_path)"
   ]
  },
  {
   "cell_type": "markdown",
   "id": "fe99e1f9-629b-4324-b1f8-7ce2a45391cc",
   "metadata": {},
   "source": [
    "# **Convert**"
   ]
  },
  {
   "cell_type": "code",
   "execution_count": 5,
   "id": "99812638-3ba6-4194-8db6-8f31ed948e2e",
   "metadata": {},
   "outputs": [],
   "source": [
    "def convert():\n",
    "    video_path = video_entry.get()\n",
    "    audio_path = audio_entry.get()\n",
    "    if video_path and audio_path:\n",
    "        video_to_audio(video_path, audio_path)\n",
    "    else:\n",
    "        messagebox.showwarning(\"Warning\", \"Please select both video file and save location for audio file.\")"
   ]
  },
  {
   "cell_type": "markdown",
   "id": "aaeeffe3-7894-472f-aa81-51e6758591a6",
   "metadata": {},
   "source": [
    "# **Tkinter Window and Main to run the model**"
   ]
  },
  {
   "cell_type": "code",
   "execution_count": 6,
   "id": "8b55c07d-0912-4b02-a691-818c49a350c9",
   "metadata": {},
   "outputs": [],
   "source": [
    "root = tk.Tk()\n",
    "root.title(\"Video to Audio Converter\")\n",
    "\n",
    "\n",
    "tk.Label(root, text=\"Video File:\").grid(row=0, column=0, padx=10, pady=10)\n",
    "video_entry = tk.Entry(root, width=50)\n",
    "video_entry.grid(row=0, column=1, padx=10, pady=10)\n",
    "video_button = tk.Button(root, text=\"Browse\", command=select_video_file)\n",
    "video_button.grid(row=0, column=2, padx=10, pady=10)\n",
    "\n",
    "\n",
    "tk.Label(root, text=\"Save Audio As:\").grid(row=1, column=0, padx=10, pady=10)\n",
    "audio_entry = tk.Entry(root, width=50)\n",
    "audio_entry.grid(row=1, column=1, padx=10, pady=10)\n",
    "audio_button = tk.Button(root, text=\"Browse\", command=select_audio_file)\n",
    "audio_button.grid(row=1, column=2, padx=10, pady=10)\n",
    "\n",
    "\n",
    "convert_button = tk.Button(root, text=\"Convert\", command=convert)\n",
    "convert_button.grid(row=2, column=0, columnspan=3, pady=20)\n",
    "\n",
    "\n",
    "root.mainloop()"
   ]
  },
  {
   "cell_type": "code",
   "execution_count": null,
   "id": "7493e215-ab88-4505-82c4-c2006413c268",
   "metadata": {},
   "outputs": [],
   "source": []
  }
 ],
 "metadata": {
  "kernelspec": {
   "display_name": "Python 3 (ipykernel)",
   "language": "python",
   "name": "python3"
  },
  "language_info": {
   "codemirror_mode": {
    "name": "ipython",
    "version": 3
   },
   "file_extension": ".py",
   "mimetype": "text/x-python",
   "name": "python",
   "nbconvert_exporter": "python",
   "pygments_lexer": "ipython3",
   "version": "3.12.4"
  }
 },
 "nbformat": 4,
 "nbformat_minor": 5
}
